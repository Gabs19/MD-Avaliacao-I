{
  "nbformat": 4,
  "nbformat_minor": 0,
  "metadata": {
    "colab": {
      "name": "Classificação - Mineração de Dados.ipynb",
      "provenance": [],
      "collapsed_sections": [],
      "include_colab_link": true
    },
    "kernelspec": {
      "name": "python3",
      "display_name": "Python 3"
    },
    "language_info": {
      "name": "python"
    }
  },
  "cells": [
    {
      "cell_type": "markdown",
      "metadata": {
        "id": "view-in-github",
        "colab_type": "text"
      },
      "source": [
        "<a href=\"https://colab.research.google.com/github/Gabs19/MD-Avaliacao-I/blob/main/Classifica%C3%A7%C3%A3o_Minera%C3%A7%C3%A3o_de_Dados.ipynb\" target=\"_parent\"><img src=\"https://colab.research.google.com/assets/colab-badge.svg\" alt=\"Open In Colab\"/></a>"
      ]
    },
    {
      "cell_type": "code",
      "metadata": {
        "colab": {
          "base_uri": "https://localhost:8080/"
        },
        "id": "-0w19KsMaZjn",
        "outputId": "3ed6e382-69c6-48a3-8fb5-7e7149c6f727"
      },
      "source": [
        "from google.colab import drive\n",
        "drive.mount('/content/drive')"
      ],
      "execution_count": null,
      "outputs": [
        {
          "output_type": "stream",
          "name": "stdout",
          "text": [
            "Mounted at /content/drive\n"
          ]
        }
      ]
    },
    {
      "cell_type": "markdown",
      "metadata": {
        "id": "oVEVso2vawwV"
      },
      "source": [
        "#__Data Exploration__"
      ]
    },
    {
      "cell_type": "code",
      "metadata": {
        "id": "U2edenc8cqXS"
      },
      "source": [
        "import missingno as msno\n",
        "import seaborn  as sns\n",
        "import numpy as np\n",
        "import matplotlib.pyplot as plt\n",
        "import pandas as pd\n"
      ],
      "execution_count": null,
      "outputs": []
    },
    {
      "cell_type": "code",
      "metadata": {
        "id": "vGMkEDFVuFX4"
      },
      "source": [
        "df = pd.read_csv(\"/content/drive/MyDrive/Projeto de Rodrigo (Mineração de Dados)/waterQuality.csv\")"
      ],
      "execution_count": null,
      "outputs": []
    },
    {
      "cell_type": "code",
      "metadata": {
        "colab": {
          "base_uri": "https://localhost:8080/",
          "height": 444
        },
        "id": "xjFLovvbuJBO",
        "outputId": "4f52f0ec-68ae-4a61-fe0c-62c44cc24368"
      },
      "source": [
        "df"
      ],
      "execution_count": null,
      "outputs": [
        {
          "output_type": "execute_result",
          "data": {
            "text/html": [
              "<div>\n",
              "<style scoped>\n",
              "    .dataframe tbody tr th:only-of-type {\n",
              "        vertical-align: middle;\n",
              "    }\n",
              "\n",
              "    .dataframe tbody tr th {\n",
              "        vertical-align: top;\n",
              "    }\n",
              "\n",
              "    .dataframe thead th {\n",
              "        text-align: right;\n",
              "    }\n",
              "</style>\n",
              "<table border=\"1\" class=\"dataframe\">\n",
              "  <thead>\n",
              "    <tr style=\"text-align: right;\">\n",
              "      <th></th>\n",
              "      <th>aluminium</th>\n",
              "      <th>ammonia</th>\n",
              "      <th>arsenic</th>\n",
              "      <th>barium</th>\n",
              "      <th>cadmium</th>\n",
              "      <th>chloramine</th>\n",
              "      <th>chromium</th>\n",
              "      <th>copper</th>\n",
              "      <th>flouride</th>\n",
              "      <th>bacteria</th>\n",
              "      <th>viruses</th>\n",
              "      <th>lead</th>\n",
              "      <th>nitrates</th>\n",
              "      <th>nitrites</th>\n",
              "      <th>mercury</th>\n",
              "      <th>perchlorate</th>\n",
              "      <th>radium</th>\n",
              "      <th>selenium</th>\n",
              "      <th>silver</th>\n",
              "      <th>uranium</th>\n",
              "      <th>is_safe</th>\n",
              "    </tr>\n",
              "  </thead>\n",
              "  <tbody>\n",
              "    <tr>\n",
              "      <th>0</th>\n",
              "      <td>1.65</td>\n",
              "      <td>9.08</td>\n",
              "      <td>0.04</td>\n",
              "      <td>2.85</td>\n",
              "      <td>0.007</td>\n",
              "      <td>0.35</td>\n",
              "      <td>0.83</td>\n",
              "      <td>0.17</td>\n",
              "      <td>0.05</td>\n",
              "      <td>0.20</td>\n",
              "      <td>0.000</td>\n",
              "      <td>0.054</td>\n",
              "      <td>16.08</td>\n",
              "      <td>1.13</td>\n",
              "      <td>0.007</td>\n",
              "      <td>37.75</td>\n",
              "      <td>6.78</td>\n",
              "      <td>0.08</td>\n",
              "      <td>0.34</td>\n",
              "      <td>0.02</td>\n",
              "      <td>1</td>\n",
              "    </tr>\n",
              "    <tr>\n",
              "      <th>1</th>\n",
              "      <td>2.32</td>\n",
              "      <td>21.16</td>\n",
              "      <td>0.01</td>\n",
              "      <td>3.31</td>\n",
              "      <td>0.002</td>\n",
              "      <td>5.28</td>\n",
              "      <td>0.68</td>\n",
              "      <td>0.66</td>\n",
              "      <td>0.90</td>\n",
              "      <td>0.65</td>\n",
              "      <td>0.650</td>\n",
              "      <td>0.100</td>\n",
              "      <td>2.01</td>\n",
              "      <td>1.93</td>\n",
              "      <td>0.003</td>\n",
              "      <td>32.26</td>\n",
              "      <td>3.21</td>\n",
              "      <td>0.08</td>\n",
              "      <td>0.27</td>\n",
              "      <td>0.05</td>\n",
              "      <td>1</td>\n",
              "    </tr>\n",
              "    <tr>\n",
              "      <th>2</th>\n",
              "      <td>1.01</td>\n",
              "      <td>14.02</td>\n",
              "      <td>0.04</td>\n",
              "      <td>0.58</td>\n",
              "      <td>0.008</td>\n",
              "      <td>4.24</td>\n",
              "      <td>0.53</td>\n",
              "      <td>0.02</td>\n",
              "      <td>0.99</td>\n",
              "      <td>0.05</td>\n",
              "      <td>0.003</td>\n",
              "      <td>0.078</td>\n",
              "      <td>14.16</td>\n",
              "      <td>1.11</td>\n",
              "      <td>0.006</td>\n",
              "      <td>50.28</td>\n",
              "      <td>7.07</td>\n",
              "      <td>0.07</td>\n",
              "      <td>0.44</td>\n",
              "      <td>0.01</td>\n",
              "      <td>0</td>\n",
              "    </tr>\n",
              "    <tr>\n",
              "      <th>3</th>\n",
              "      <td>1.36</td>\n",
              "      <td>11.33</td>\n",
              "      <td>0.04</td>\n",
              "      <td>2.96</td>\n",
              "      <td>0.001</td>\n",
              "      <td>7.23</td>\n",
              "      <td>0.03</td>\n",
              "      <td>1.66</td>\n",
              "      <td>1.08</td>\n",
              "      <td>0.71</td>\n",
              "      <td>0.710</td>\n",
              "      <td>0.016</td>\n",
              "      <td>1.41</td>\n",
              "      <td>1.29</td>\n",
              "      <td>0.004</td>\n",
              "      <td>9.12</td>\n",
              "      <td>1.72</td>\n",
              "      <td>0.02</td>\n",
              "      <td>0.45</td>\n",
              "      <td>0.05</td>\n",
              "      <td>1</td>\n",
              "    </tr>\n",
              "    <tr>\n",
              "      <th>4</th>\n",
              "      <td>0.92</td>\n",
              "      <td>24.33</td>\n",
              "      <td>0.03</td>\n",
              "      <td>0.20</td>\n",
              "      <td>0.006</td>\n",
              "      <td>2.67</td>\n",
              "      <td>0.69</td>\n",
              "      <td>0.57</td>\n",
              "      <td>0.61</td>\n",
              "      <td>0.13</td>\n",
              "      <td>0.001</td>\n",
              "      <td>0.117</td>\n",
              "      <td>6.74</td>\n",
              "      <td>1.11</td>\n",
              "      <td>0.003</td>\n",
              "      <td>16.90</td>\n",
              "      <td>2.41</td>\n",
              "      <td>0.02</td>\n",
              "      <td>0.06</td>\n",
              "      <td>0.02</td>\n",
              "      <td>1</td>\n",
              "    </tr>\n",
              "    <tr>\n",
              "      <th>...</th>\n",
              "      <td>...</td>\n",
              "      <td>...</td>\n",
              "      <td>...</td>\n",
              "      <td>...</td>\n",
              "      <td>...</td>\n",
              "      <td>...</td>\n",
              "      <td>...</td>\n",
              "      <td>...</td>\n",
              "      <td>...</td>\n",
              "      <td>...</td>\n",
              "      <td>...</td>\n",
              "      <td>...</td>\n",
              "      <td>...</td>\n",
              "      <td>...</td>\n",
              "      <td>...</td>\n",
              "      <td>...</td>\n",
              "      <td>...</td>\n",
              "      <td>...</td>\n",
              "      <td>...</td>\n",
              "      <td>...</td>\n",
              "      <td>...</td>\n",
              "    </tr>\n",
              "    <tr>\n",
              "      <th>7994</th>\n",
              "      <td>0.05</td>\n",
              "      <td>7.78</td>\n",
              "      <td>0.00</td>\n",
              "      <td>1.95</td>\n",
              "      <td>0.040</td>\n",
              "      <td>0.10</td>\n",
              "      <td>0.03</td>\n",
              "      <td>0.03</td>\n",
              "      <td>1.37</td>\n",
              "      <td>0.00</td>\n",
              "      <td>0.000</td>\n",
              "      <td>0.197</td>\n",
              "      <td>14.29</td>\n",
              "      <td>1.00</td>\n",
              "      <td>0.005</td>\n",
              "      <td>3.57</td>\n",
              "      <td>2.13</td>\n",
              "      <td>0.09</td>\n",
              "      <td>0.06</td>\n",
              "      <td>0.03</td>\n",
              "      <td>1</td>\n",
              "    </tr>\n",
              "    <tr>\n",
              "      <th>7995</th>\n",
              "      <td>0.05</td>\n",
              "      <td>24.22</td>\n",
              "      <td>0.02</td>\n",
              "      <td>0.59</td>\n",
              "      <td>0.010</td>\n",
              "      <td>0.45</td>\n",
              "      <td>0.02</td>\n",
              "      <td>0.02</td>\n",
              "      <td>1.48</td>\n",
              "      <td>0.00</td>\n",
              "      <td>0.000</td>\n",
              "      <td>0.031</td>\n",
              "      <td>10.27</td>\n",
              "      <td>1.00</td>\n",
              "      <td>0.001</td>\n",
              "      <td>1.48</td>\n",
              "      <td>1.11</td>\n",
              "      <td>0.09</td>\n",
              "      <td>0.10</td>\n",
              "      <td>0.08</td>\n",
              "      <td>1</td>\n",
              "    </tr>\n",
              "    <tr>\n",
              "      <th>7996</th>\n",
              "      <td>0.09</td>\n",
              "      <td>6.85</td>\n",
              "      <td>0.00</td>\n",
              "      <td>0.61</td>\n",
              "      <td>0.030</td>\n",
              "      <td>0.05</td>\n",
              "      <td>0.05</td>\n",
              "      <td>0.02</td>\n",
              "      <td>0.91</td>\n",
              "      <td>0.00</td>\n",
              "      <td>0.000</td>\n",
              "      <td>0.182</td>\n",
              "      <td>15.92</td>\n",
              "      <td>1.00</td>\n",
              "      <td>0.000</td>\n",
              "      <td>1.35</td>\n",
              "      <td>4.84</td>\n",
              "      <td>0.00</td>\n",
              "      <td>0.04</td>\n",
              "      <td>0.05</td>\n",
              "      <td>1</td>\n",
              "    </tr>\n",
              "    <tr>\n",
              "      <th>7997</th>\n",
              "      <td>0.01</td>\n",
              "      <td>10</td>\n",
              "      <td>0.01</td>\n",
              "      <td>2.00</td>\n",
              "      <td>0.000</td>\n",
              "      <td>2.00</td>\n",
              "      <td>0.00</td>\n",
              "      <td>0.09</td>\n",
              "      <td>0.00</td>\n",
              "      <td>0.00</td>\n",
              "      <td>0.000</td>\n",
              "      <td>0.000</td>\n",
              "      <td>0.00</td>\n",
              "      <td>0.00</td>\n",
              "      <td>0.000</td>\n",
              "      <td>0.00</td>\n",
              "      <td>0.00</td>\n",
              "      <td>0.00</td>\n",
              "      <td>0.00</td>\n",
              "      <td>0.00</td>\n",
              "      <td>1</td>\n",
              "    </tr>\n",
              "    <tr>\n",
              "      <th>7998</th>\n",
              "      <td>0.04</td>\n",
              "      <td>6.85</td>\n",
              "      <td>0.01</td>\n",
              "      <td>0.70</td>\n",
              "      <td>0.030</td>\n",
              "      <td>0.05</td>\n",
              "      <td>0.01</td>\n",
              "      <td>0.03</td>\n",
              "      <td>1.00</td>\n",
              "      <td>0.00</td>\n",
              "      <td>0.000</td>\n",
              "      <td>0.182</td>\n",
              "      <td>15.92</td>\n",
              "      <td>1.00</td>\n",
              "      <td>0.000</td>\n",
              "      <td>1.35</td>\n",
              "      <td>4.84</td>\n",
              "      <td>0.00</td>\n",
              "      <td>0.04</td>\n",
              "      <td>0.05</td>\n",
              "      <td>1</td>\n",
              "    </tr>\n",
              "  </tbody>\n",
              "</table>\n",
              "<p>7999 rows × 21 columns</p>\n",
              "</div>"
            ],
            "text/plain": [
              "      aluminium ammonia  arsenic  barium  ...  selenium  silver  uranium  is_safe\n",
              "0          1.65    9.08     0.04    2.85  ...      0.08    0.34     0.02        1\n",
              "1          2.32   21.16     0.01    3.31  ...      0.08    0.27     0.05        1\n",
              "2          1.01   14.02     0.04    0.58  ...      0.07    0.44     0.01        0\n",
              "3          1.36   11.33     0.04    2.96  ...      0.02    0.45     0.05        1\n",
              "4          0.92   24.33     0.03    0.20  ...      0.02    0.06     0.02        1\n",
              "...         ...     ...      ...     ...  ...       ...     ...      ...      ...\n",
              "7994       0.05    7.78     0.00    1.95  ...      0.09    0.06     0.03        1\n",
              "7995       0.05   24.22     0.02    0.59  ...      0.09    0.10     0.08        1\n",
              "7996       0.09    6.85     0.00    0.61  ...      0.00    0.04     0.05        1\n",
              "7997       0.01      10     0.01    2.00  ...      0.00    0.00     0.00        1\n",
              "7998       0.04    6.85     0.01    0.70  ...      0.00    0.04     0.05        1\n",
              "\n",
              "[7999 rows x 21 columns]"
            ]
          },
          "metadata": {},
          "execution_count": 308
        }
      ]
    },
    {
      "cell_type": "code",
      "metadata": {
        "colab": {
          "base_uri": "https://localhost:8080/"
        },
        "id": "5GgI1D0fbVBI",
        "outputId": "b2736574-e8e9-4524-bae1-43b7c07a8e9d"
      },
      "source": [
        "df.columns"
      ],
      "execution_count": null,
      "outputs": [
        {
          "output_type": "execute_result",
          "data": {
            "text/plain": [
              "Index(['aluminium', 'ammonia', 'arsenic', 'barium', 'cadmium', 'chloramine',\n",
              "       'chromium', 'copper', 'flouride', 'bacteria', 'viruses', 'lead',\n",
              "       'nitrates', 'nitrites', 'mercury', 'perchlorate', 'radium', 'selenium',\n",
              "       'silver', 'uranium', 'is_safe'],\n",
              "      dtype='object')"
            ]
          },
          "metadata": {},
          "execution_count": 309
        }
      ]
    },
    {
      "cell_type": "code",
      "metadata": {
        "colab": {
          "base_uri": "https://localhost:8080/",
          "height": 320
        },
        "id": "nvPnNAEpauXn",
        "outputId": "a5d2eb00-e40b-42c8-a480-a310129b41a5"
      },
      "source": [
        "#O método .describe() do objecto pandas DataFrame nós fornece descrição da base. Através dele, podemos visualizar algumas métricas, como: percentils, média e desvio padrão\n",
        "df.describe()"
      ],
      "execution_count": null,
      "outputs": [
        {
          "output_type": "execute_result",
          "data": {
            "text/html": [
              "<div>\n",
              "<style scoped>\n",
              "    .dataframe tbody tr th:only-of-type {\n",
              "        vertical-align: middle;\n",
              "    }\n",
              "\n",
              "    .dataframe tbody tr th {\n",
              "        vertical-align: top;\n",
              "    }\n",
              "\n",
              "    .dataframe thead th {\n",
              "        text-align: right;\n",
              "    }\n",
              "</style>\n",
              "<table border=\"1\" class=\"dataframe\">\n",
              "  <thead>\n",
              "    <tr style=\"text-align: right;\">\n",
              "      <th></th>\n",
              "      <th>aluminium</th>\n",
              "      <th>arsenic</th>\n",
              "      <th>barium</th>\n",
              "      <th>cadmium</th>\n",
              "      <th>chloramine</th>\n",
              "      <th>chromium</th>\n",
              "      <th>copper</th>\n",
              "      <th>flouride</th>\n",
              "      <th>bacteria</th>\n",
              "      <th>viruses</th>\n",
              "      <th>lead</th>\n",
              "      <th>nitrates</th>\n",
              "      <th>nitrites</th>\n",
              "      <th>mercury</th>\n",
              "      <th>perchlorate</th>\n",
              "      <th>radium</th>\n",
              "      <th>selenium</th>\n",
              "      <th>silver</th>\n",
              "      <th>uranium</th>\n",
              "    </tr>\n",
              "  </thead>\n",
              "  <tbody>\n",
              "    <tr>\n",
              "      <th>count</th>\n",
              "      <td>7999.000000</td>\n",
              "      <td>7999.000000</td>\n",
              "      <td>7999.000000</td>\n",
              "      <td>7999.000000</td>\n",
              "      <td>7999.000000</td>\n",
              "      <td>7999.000000</td>\n",
              "      <td>7999.000000</td>\n",
              "      <td>7999.000000</td>\n",
              "      <td>7999.000000</td>\n",
              "      <td>7999.000000</td>\n",
              "      <td>7999.000000</td>\n",
              "      <td>7999.000000</td>\n",
              "      <td>7999.000000</td>\n",
              "      <td>7999.000000</td>\n",
              "      <td>7999.000000</td>\n",
              "      <td>7999.000000</td>\n",
              "      <td>7999.000000</td>\n",
              "      <td>7999.000000</td>\n",
              "      <td>7999.000000</td>\n",
              "    </tr>\n",
              "    <tr>\n",
              "      <th>mean</th>\n",
              "      <td>0.666158</td>\n",
              "      <td>0.161445</td>\n",
              "      <td>1.567715</td>\n",
              "      <td>0.042806</td>\n",
              "      <td>2.176831</td>\n",
              "      <td>0.247226</td>\n",
              "      <td>0.805857</td>\n",
              "      <td>0.771565</td>\n",
              "      <td>0.319665</td>\n",
              "      <td>0.328583</td>\n",
              "      <td>0.099450</td>\n",
              "      <td>9.818822</td>\n",
              "      <td>1.329961</td>\n",
              "      <td>0.005194</td>\n",
              "      <td>16.460299</td>\n",
              "      <td>2.920548</td>\n",
              "      <td>0.049685</td>\n",
              "      <td>0.147781</td>\n",
              "      <td>0.044673</td>\n",
              "    </tr>\n",
              "    <tr>\n",
              "      <th>std</th>\n",
              "      <td>1.265145</td>\n",
              "      <td>0.252590</td>\n",
              "      <td>1.216091</td>\n",
              "      <td>0.036049</td>\n",
              "      <td>2.567027</td>\n",
              "      <td>0.270640</td>\n",
              "      <td>0.653539</td>\n",
              "      <td>0.435373</td>\n",
              "      <td>0.329485</td>\n",
              "      <td>0.378096</td>\n",
              "      <td>0.058172</td>\n",
              "      <td>5.541331</td>\n",
              "      <td>0.573219</td>\n",
              "      <td>0.002967</td>\n",
              "      <td>17.687474</td>\n",
              "      <td>2.323009</td>\n",
              "      <td>0.028770</td>\n",
              "      <td>0.143551</td>\n",
              "      <td>0.026904</td>\n",
              "    </tr>\n",
              "    <tr>\n",
              "      <th>min</th>\n",
              "      <td>0.000000</td>\n",
              "      <td>0.000000</td>\n",
              "      <td>0.000000</td>\n",
              "      <td>0.000000</td>\n",
              "      <td>0.000000</td>\n",
              "      <td>0.000000</td>\n",
              "      <td>0.000000</td>\n",
              "      <td>0.000000</td>\n",
              "      <td>0.000000</td>\n",
              "      <td>0.000000</td>\n",
              "      <td>0.000000</td>\n",
              "      <td>0.000000</td>\n",
              "      <td>0.000000</td>\n",
              "      <td>0.000000</td>\n",
              "      <td>0.000000</td>\n",
              "      <td>0.000000</td>\n",
              "      <td>0.000000</td>\n",
              "      <td>0.000000</td>\n",
              "      <td>0.000000</td>\n",
              "    </tr>\n",
              "    <tr>\n",
              "      <th>25%</th>\n",
              "      <td>0.040000</td>\n",
              "      <td>0.030000</td>\n",
              "      <td>0.560000</td>\n",
              "      <td>0.008000</td>\n",
              "      <td>0.100000</td>\n",
              "      <td>0.050000</td>\n",
              "      <td>0.090000</td>\n",
              "      <td>0.405000</td>\n",
              "      <td>0.000000</td>\n",
              "      <td>0.002000</td>\n",
              "      <td>0.048000</td>\n",
              "      <td>5.000000</td>\n",
              "      <td>1.000000</td>\n",
              "      <td>0.003000</td>\n",
              "      <td>2.170000</td>\n",
              "      <td>0.820000</td>\n",
              "      <td>0.020000</td>\n",
              "      <td>0.040000</td>\n",
              "      <td>0.020000</td>\n",
              "    </tr>\n",
              "    <tr>\n",
              "      <th>50%</th>\n",
              "      <td>0.070000</td>\n",
              "      <td>0.050000</td>\n",
              "      <td>1.190000</td>\n",
              "      <td>0.040000</td>\n",
              "      <td>0.530000</td>\n",
              "      <td>0.090000</td>\n",
              "      <td>0.750000</td>\n",
              "      <td>0.770000</td>\n",
              "      <td>0.220000</td>\n",
              "      <td>0.008000</td>\n",
              "      <td>0.102000</td>\n",
              "      <td>9.930000</td>\n",
              "      <td>1.420000</td>\n",
              "      <td>0.005000</td>\n",
              "      <td>7.740000</td>\n",
              "      <td>2.410000</td>\n",
              "      <td>0.050000</td>\n",
              "      <td>0.080000</td>\n",
              "      <td>0.050000</td>\n",
              "    </tr>\n",
              "    <tr>\n",
              "      <th>75%</th>\n",
              "      <td>0.280000</td>\n",
              "      <td>0.100000</td>\n",
              "      <td>2.480000</td>\n",
              "      <td>0.070000</td>\n",
              "      <td>4.240000</td>\n",
              "      <td>0.440000</td>\n",
              "      <td>1.390000</td>\n",
              "      <td>1.160000</td>\n",
              "      <td>0.610000</td>\n",
              "      <td>0.700000</td>\n",
              "      <td>0.151000</td>\n",
              "      <td>14.610000</td>\n",
              "      <td>1.760000</td>\n",
              "      <td>0.008000</td>\n",
              "      <td>29.480000</td>\n",
              "      <td>4.670000</td>\n",
              "      <td>0.070000</td>\n",
              "      <td>0.240000</td>\n",
              "      <td>0.070000</td>\n",
              "    </tr>\n",
              "    <tr>\n",
              "      <th>max</th>\n",
              "      <td>5.050000</td>\n",
              "      <td>1.050000</td>\n",
              "      <td>4.940000</td>\n",
              "      <td>0.130000</td>\n",
              "      <td>8.680000</td>\n",
              "      <td>0.900000</td>\n",
              "      <td>2.000000</td>\n",
              "      <td>1.500000</td>\n",
              "      <td>1.000000</td>\n",
              "      <td>1.000000</td>\n",
              "      <td>0.200000</td>\n",
              "      <td>19.830000</td>\n",
              "      <td>2.930000</td>\n",
              "      <td>0.010000</td>\n",
              "      <td>60.010000</td>\n",
              "      <td>7.990000</td>\n",
              "      <td>0.100000</td>\n",
              "      <td>0.500000</td>\n",
              "      <td>0.090000</td>\n",
              "    </tr>\n",
              "  </tbody>\n",
              "</table>\n",
              "</div>"
            ],
            "text/plain": [
              "         aluminium      arsenic  ...       silver      uranium\n",
              "count  7999.000000  7999.000000  ...  7999.000000  7999.000000\n",
              "mean      0.666158     0.161445  ...     0.147781     0.044673\n",
              "std       1.265145     0.252590  ...     0.143551     0.026904\n",
              "min       0.000000     0.000000  ...     0.000000     0.000000\n",
              "25%       0.040000     0.030000  ...     0.040000     0.020000\n",
              "50%       0.070000     0.050000  ...     0.080000     0.050000\n",
              "75%       0.280000     0.100000  ...     0.240000     0.070000\n",
              "max       5.050000     1.050000  ...     0.500000     0.090000\n",
              "\n",
              "[8 rows x 19 columns]"
            ]
          },
          "metadata": {},
          "execution_count": 310
        }
      ]
    },
    {
      "cell_type": "code",
      "metadata": {
        "colab": {
          "base_uri": "https://localhost:8080/",
          "height": 651
        },
        "id": "oidh8KlRcRKF",
        "outputId": "61fdc6b7-ba16-4919-a4a3-ad50140b4fd5"
      },
      "source": [
        "# Verifica se há dados nulos presentes em cada uma das colunas\n",
        "msno.matrix(df)"
      ],
      "execution_count": null,
      "outputs": [
        {
          "output_type": "execute_result",
          "data": {
            "text/plain": [
              "<matplotlib.axes._subplots.AxesSubplot at 0x7f606c768c90>"
            ]
          },
          "metadata": {},
          "execution_count": 312
        },
        {
          "output_type": "display_data",
          "data": {
            "image/png": "[encoded data removed]",
            "text/plain": [
              "<Figure size 1800x720 with 2 Axes>"
            ]
          },
          "metadata": {
            "needs_background": "light"
          }
        }
      ]
    },
    {
      "cell_type": "code",
      "metadata": {
        "colab": {
          "base_uri": "https://localhost:8080/",
          "height": 69
        },
        "id": "CS6WZS4QcsrL",
        "outputId": "f0cb99c9-d93e-49b3-e75e-89bb8ed3fa01"
      },
      "source": [
        "# Verifica se há registros duplicados\n",
        "df[df.duplicated()]"
      ],
      "execution_count": null,
      "outputs": [
        {
          "output_type": "execute_result",
          "data": {
            "text/html": [
              "<div>\n",
              "<style scoped>\n",
              "    .dataframe tbody tr th:only-of-type {\n",
              "        vertical-align: middle;\n",
              "    }\n",
              "\n",
              "    .dataframe tbody tr th {\n",
              "        vertical-align: top;\n",
              "    }\n",
              "\n",
              "    .dataframe thead th {\n",
              "        text-align: right;\n",
              "    }\n",
              "</style>\n",
              "<table border=\"1\" class=\"dataframe\">\n",
              "  <thead>\n",
              "    <tr style=\"text-align: right;\">\n",
              "      <th></th>\n",
              "      <th>aluminium</th>\n",
              "      <th>ammonia</th>\n",
              "      <th>arsenic</th>\n",
              "      <th>barium</th>\n",
              "      <th>cadmium</th>\n",
              "      <th>chloramine</th>\n",
              "      <th>chromium</th>\n",
              "      <th>copper</th>\n",
              "      <th>flouride</th>\n",
              "      <th>bacteria</th>\n",
              "      <th>viruses</th>\n",
              "      <th>lead</th>\n",
              "      <th>nitrates</th>\n",
              "      <th>nitrites</th>\n",
              "      <th>mercury</th>\n",
              "      <th>perchlorate</th>\n",
              "      <th>radium</th>\n",
              "      <th>selenium</th>\n",
              "      <th>silver</th>\n",
              "      <th>uranium</th>\n",
              "      <th>is_safe</th>\n",
              "    </tr>\n",
              "  </thead>\n",
              "  <tbody>\n",
              "  </tbody>\n",
              "</table>\n",
              "</div>"
            ],
            "text/plain": [
              "Empty DataFrame\n",
              "Columns: [aluminium, ammonia, arsenic, barium, cadmium, chloramine, chromium, copper, flouride, bacteria, viruses, lead, nitrates, nitrites, mercury, perchlorate, radium, selenium, silver, uranium, is_safe]\n",
              "Index: []"
            ]
          },
          "metadata": {},
          "execution_count": 313
        }
      ]
    },
    {
      "cell_type": "markdown",
      "metadata": {
        "id": "AAkvKl2EsF1j"
      },
      "source": [
        "Através do gráfico boxplot, podemos visualizar a distribuição quantitativa dos danos. O gráfico boxplot é muito utilizado na detecção de outliers"
      ]
    },
    {
      "cell_type": "code",
      "metadata": {
        "colab": {
          "base_uri": "https://localhost:8080/",
          "height": 936
        },
        "id": "5K9uYiRdsAZT",
        "outputId": "e5ce64cd-5006-45f9-865c-6c7c126e435a"
      },
      "source": [
        "fig, ax = plt.subplots(figsize = (20, 16))\n",
        "sns.boxplot(data=df)"
      ],
      "execution_count": null,
      "outputs": [
        {
          "output_type": "execute_result",
          "data": {
            "text/plain": [
              "<matplotlib.axes._subplots.AxesSubplot at 0x7f606c43aa50>"
            ]
          },
          "metadata": {},
          "execution_count": 314
        },
        {
          "output_type": "display_data",
          "data": {
            "image/png": "[encoded data removed]",
            "text/plain": [
              "<Figure size 1440x1152 with 1 Axes>"
            ]
          },
          "metadata": {
            "needs_background": "light"
          }
        }
      ]
    },
    {
      "cell_type": "markdown",
      "metadata": {
        "id": "3xVEegafthlf"
      },
      "source": [
        "Através do gráfico de correlação podemos ver a relação entre os atributos. Podemos perceber que os atributos bacterias e virus possuem uma alta correalação."
      ]
    },
    {
      "cell_type": "code",
      "metadata": {
        "colab": {
          "base_uri": "https://localhost:8080/",
          "height": 969
        },
        "id": "caZa-bDMtPOL",
        "outputId": "c8f6f008-452e-4fa8-a5a0-05fc2ff79f9a"
      },
      "source": [
        "fig, ax = plt.subplots(figsize = (16,16))\n",
        "ax = sns.heatmap(df.corr(), fmt = \".2f\", annot =  True, ax = ax, cmap = \"RdBu_r\", vmin = -1, vmax = 1)"
      ],
      "execution_count": null,
      "outputs": [
        {
          "output_type": "display_data",
          "data": {
            "image/png": "[encoded data removed]",
            "text/plain": [
              "<Figure size 1152x1152 with 2 Axes>"
            ]
          },
          "metadata": {
            "needs_background": "light"
          }
        }
      ]
    },
    {
      "cell_type": "code",
      "metadata": {
        "id": "_a2CB6sKJsF8"
      },
      "source": [
        "#!pip install pandas-profiling==2.7.1\n",
        "\n",
        "#import pandas_profiling\n",
        "#pandas_profiling.ProfileReport(df)"
      ],
      "execution_count": null,
      "outputs": []
    },
    {
      "cell_type": "markdown",
      "metadata": {
        "id": "ESOVt3O3r6wY"
      },
      "source": [
        "#__Preprocessing__\n"
      ]
    },
    {
      "cell_type": "markdown",
      "metadata": {
        "id": "X65HQ6u5lq0r"
      },
      "source": [
        "Remove as entradas em que o atributo is_safe está corrompido"
      ]
    },
    {
      "cell_type": "code",
      "metadata": {
        "colab": {
          "base_uri": "https://localhost:8080/",
          "height": 164
        },
        "id": "UfOus98Lkexz",
        "outputId": "22d08374-cf5c-4198-8196-1642f022f099"
      },
      "source": [
        "df[df.is_safe == '#NUM!']"
      ],
      "execution_count": null,
      "outputs": [
        {
          "output_type": "execute_result",
          "data": {
            "text/html": [
              "<div>\n",
              "<style scoped>\n",
              "    .dataframe tbody tr th:only-of-type {\n",
              "        vertical-align: middle;\n",
              "    }\n",
              "\n",
              "    .dataframe tbody tr th {\n",
              "        vertical-align: top;\n",
              "    }\n",
              "\n",
              "    .dataframe thead th {\n",
              "        text-align: right;\n",
              "    }\n",
              "</style>\n",
              "<table border=\"1\" class=\"dataframe\">\n",
              "  <thead>\n",
              "    <tr style=\"text-align: right;\">\n",
              "      <th></th>\n",
              "      <th>aluminium</th>\n",
              "      <th>ammonia</th>\n",
              "      <th>arsenic</th>\n",
              "      <th>barium</th>\n",
              "      <th>cadmium</th>\n",
              "      <th>chloramine</th>\n",
              "      <th>chromium</th>\n",
              "      <th>copper</th>\n",
              "      <th>flouride</th>\n",
              "      <th>bacteria</th>\n",
              "      <th>viruses</th>\n",
              "      <th>lead</th>\n",
              "      <th>nitrates</th>\n",
              "      <th>nitrites</th>\n",
              "      <th>mercury</th>\n",
              "      <th>perchlorate</th>\n",
              "      <th>radium</th>\n",
              "      <th>selenium</th>\n",
              "      <th>silver</th>\n",
              "      <th>uranium</th>\n",
              "      <th>is_safe</th>\n",
              "    </tr>\n",
              "  </thead>\n",
              "  <tbody>\n",
              "    <tr>\n",
              "      <th>7551</th>\n",
              "      <td>0.03</td>\n",
              "      <td>#NUM!</td>\n",
              "      <td>0.08</td>\n",
              "      <td>0.79</td>\n",
              "      <td>0.07</td>\n",
              "      <td>0.08</td>\n",
              "      <td>0.05</td>\n",
              "      <td>0.58</td>\n",
              "      <td>0.34</td>\n",
              "      <td>0.00</td>\n",
              "      <td>0.0</td>\n",
              "      <td>0.183</td>\n",
              "      <td>4.37</td>\n",
              "      <td>1.43</td>\n",
              "      <td>0.007</td>\n",
              "      <td>0.62</td>\n",
              "      <td>2.54</td>\n",
              "      <td>0.07</td>\n",
              "      <td>0.05</td>\n",
              "      <td>0.05</td>\n",
              "      <td>#NUM!</td>\n",
              "    </tr>\n",
              "    <tr>\n",
              "      <th>7568</th>\n",
              "      <td>0.06</td>\n",
              "      <td>#NUM!</td>\n",
              "      <td>0.07</td>\n",
              "      <td>1.72</td>\n",
              "      <td>0.08</td>\n",
              "      <td>0.32</td>\n",
              "      <td>0.01</td>\n",
              "      <td>1.11</td>\n",
              "      <td>0.61</td>\n",
              "      <td>0.00</td>\n",
              "      <td>0.0</td>\n",
              "      <td>0.178</td>\n",
              "      <td>12.10</td>\n",
              "      <td>2.03</td>\n",
              "      <td>0.008</td>\n",
              "      <td>1.37</td>\n",
              "      <td>2.05</td>\n",
              "      <td>0.06</td>\n",
              "      <td>0.10</td>\n",
              "      <td>0.07</td>\n",
              "      <td>#NUM!</td>\n",
              "    </tr>\n",
              "    <tr>\n",
              "      <th>7890</th>\n",
              "      <td>0.01</td>\n",
              "      <td>#NUM!</td>\n",
              "      <td>0.08</td>\n",
              "      <td>0.49</td>\n",
              "      <td>0.00</td>\n",
              "      <td>0.07</td>\n",
              "      <td>0.09</td>\n",
              "      <td>0.06</td>\n",
              "      <td>0.72</td>\n",
              "      <td>0.57</td>\n",
              "      <td>0.0</td>\n",
              "      <td>0.088</td>\n",
              "      <td>9.57</td>\n",
              "      <td>1.45</td>\n",
              "      <td>0.009</td>\n",
              "      <td>7.67</td>\n",
              "      <td>7.70</td>\n",
              "      <td>0.03</td>\n",
              "      <td>0.05</td>\n",
              "      <td>0.02</td>\n",
              "      <td>#NUM!</td>\n",
              "    </tr>\n",
              "  </tbody>\n",
              "</table>\n",
              "</div>"
            ],
            "text/plain": [
              "      aluminium ammonia  arsenic  barium  ...  selenium  silver  uranium  is_safe\n",
              "7551       0.03   #NUM!     0.08    0.79  ...      0.07    0.05     0.05    #NUM!\n",
              "7568       0.06   #NUM!     0.07    1.72  ...      0.06    0.10     0.07    #NUM!\n",
              "7890       0.01   #NUM!     0.08    0.49  ...      0.03    0.05     0.02    #NUM!\n",
              "\n",
              "[3 rows x 21 columns]"
            ]
          },
          "metadata": {},
          "execution_count": 316
        }
      ]
    },
    {
      "cell_type": "code",
      "metadata": {
        "colab": {
          "base_uri": "https://localhost:8080/",
          "height": 69
        },
        "id": "rNx0PUmAi2cy",
        "outputId": "d7fcaea8-60f4-4364-e7dc-58bd36c721cc"
      },
      "source": [
        "df = df[df.is_safe != '#NUM!']\n",
        "df[df.is_safe == '#NUM!']"
      ],
      "execution_count": null,
      "outputs": [
        {
          "output_type": "execute_result",
          "data": {
            "text/html": [
              "<div>\n",
              "<style scoped>\n",
              "    .dataframe tbody tr th:only-of-type {\n",
              "        vertical-align: middle;\n",
              "    }\n",
              "\n",
              "    .dataframe tbody tr th {\n",
              "        vertical-align: top;\n",
              "    }\n",
              "\n",
              "    .dataframe thead th {\n",
              "        text-align: right;\n",
              "    }\n",
              "</style>\n",
              "<table border=\"1\" class=\"dataframe\">\n",
              "  <thead>\n",
              "    <tr style=\"text-align: right;\">\n",
              "      <th></th>\n",
              "      <th>aluminium</th>\n",
              "      <th>ammonia</th>\n",
              "      <th>arsenic</th>\n",
              "      <th>barium</th>\n",
              "      <th>cadmium</th>\n",
              "      <th>chloramine</th>\n",
              "      <th>chromium</th>\n",
              "      <th>copper</th>\n",
              "      <th>flouride</th>\n",
              "      <th>bacteria</th>\n",
              "      <th>viruses</th>\n",
              "      <th>lead</th>\n",
              "      <th>nitrates</th>\n",
              "      <th>nitrites</th>\n",
              "      <th>mercury</th>\n",
              "      <th>perchlorate</th>\n",
              "      <th>radium</th>\n",
              "      <th>selenium</th>\n",
              "      <th>silver</th>\n",
              "      <th>uranium</th>\n",
              "      <th>is_safe</th>\n",
              "    </tr>\n",
              "  </thead>\n",
              "  <tbody>\n",
              "  </tbody>\n",
              "</table>\n",
              "</div>"
            ],
            "text/plain": [
              "Empty DataFrame\n",
              "Columns: [aluminium, ammonia, arsenic, barium, cadmium, chloramine, chromium, copper, flouride, bacteria, viruses, lead, nitrates, nitrites, mercury, perchlorate, radium, selenium, silver, uranium, is_safe]\n",
              "Index: []"
            ]
          },
          "metadata": {},
          "execution_count": 317
        }
      ]
    },
    {
      "cell_type": "markdown",
      "metadata": {
        "id": "FF4l8cbiBmnh"
      },
      "source": [
        "###__Corrigir Tipos das Colunas__"
      ]
    },
    {
      "cell_type": "markdown",
      "metadata": {
        "id": "1Nx8vutdqaOB"
      },
      "source": [
        "Converte a coluna is_safe para valores de valores to tipo string para int"
      ]
    },
    {
      "cell_type": "code",
      "metadata": {
        "colab": {
          "base_uri": "https://localhost:8080/"
        },
        "id": "0cTbO2z7omlg",
        "outputId": "7a41dbd5-d7f0-4ab7-cf78-675d5907cae3"
      },
      "source": [
        "df.is_safe = pd.to_numeric(df.is_safe)\n",
        "df.is_safe.dtype"
      ],
      "execution_count": null,
      "outputs": [
        {
          "output_type": "stream",
          "name": "stderr",
          "text": [
            "/usr/local/lib/python3.7/dist-packages/pandas/core/generic.py:5170: SettingWithCopyWarning: \n",
            "A value is trying to be set on a copy of a slice from a DataFrame.\n",
            "Try using .loc[row_indexer,col_indexer] = value instead\n",
            "\n",
            "See the caveats in the documentation: https://pandas.pydata.org/pandas-docs/stable/user_guide/indexing.html#returning-a-view-versus-a-copy\n",
            "  self[name] = value\n"
          ]
        },
        {
          "output_type": "execute_result",
          "data": {
            "text/plain": [
              "dtype('int64')"
            ]
          },
          "metadata": {},
          "execution_count": 318
        }
      ]
    },
    {
      "cell_type": "markdown",
      "metadata": {
        "id": "X_oeBzU2Bvkg"
      },
      "source": [
        "Converte a coluna is_safe para valores de valores to tipo string para int"
      ]
    },
    {
      "cell_type": "code",
      "metadata": {
        "colab": {
          "base_uri": "https://localhost:8080/"
        },
        "id": "3fXDNRkZB8-r",
        "outputId": "d1b0b016-c532-40cb-a7dc-aaee929daf57"
      },
      "source": [
        "df.ammonia = pd.to_numeric(df.ammonia)\n",
        "df.ammonia.dtype"
      ],
      "execution_count": null,
      "outputs": [
        {
          "output_type": "stream",
          "name": "stderr",
          "text": [
            "/usr/local/lib/python3.7/dist-packages/pandas/core/generic.py:5170: SettingWithCopyWarning: \n",
            "A value is trying to be set on a copy of a slice from a DataFrame.\n",
            "Try using .loc[row_indexer,col_indexer] = value instead\n",
            "\n",
            "See the caveats in the documentation: https://pandas.pydata.org/pandas-docs/stable/user_guide/indexing.html#returning-a-view-versus-a-copy\n",
            "  self[name] = value\n"
          ]
        },
        {
          "output_type": "execute_result",
          "data": {
            "text/plain": [
              "dtype('float64')"
            ]
          },
          "metadata": {},
          "execution_count": 319
        }
      ]
    },
    {
      "cell_type": "markdown",
      "metadata": {
        "id": "hkBIgq_asd3-"
      },
      "source": [
        "###__Remoção de Outliers__"
      ]
    },
    {
      "cell_type": "markdown",
      "metadata": {
        "id": "cwHiVFKOsgHr"
      },
      "source": [
        "Através do gráfico boxplor podemod perceber que os atributos arsenic, aluminium e nitrites possuem valores outliers"
      ]
    },
    {
      "cell_type": "code",
      "metadata": {
        "colab": {
          "base_uri": "https://localhost:8080/",
          "height": 283
        },
        "id": "IaSyGr7LqOcI",
        "outputId": "f667b4fa-777a-4739-9d46-30bb95ea7e91"
      },
      "source": [
        "df[['arsenic', 'aluminium', 'nitrites']].plot.box()"
      ],
      "execution_count": null,
      "outputs": [
        {
          "output_type": "execute_result",
          "data": {
            "text/plain": [
              "<matplotlib.axes._subplots.AxesSubplot at 0x7f6073e47d10>"
            ]
          },
          "metadata": {},
          "execution_count": 320
        },
        {
          "output_type": "display_data",
          "data": {
            "image/png": "[encoded data removed]",
            "text/plain": [
              "<Figure size 432x288 with 1 Axes>"
            ]
          },
          "metadata": {
            "needs_background": "light"
          }
        }
      ]
    },
    {
      "cell_type": "code",
      "metadata": {
        "id": "cueIavsHsjRR"
      },
      "source": [
        "def clip_outliers(array):\n",
        "    '''Função criada para limitar os valores outliers de acordo com os limites inferiores e superiores'''\n",
        "    q1 = np.percentile(array, 25)\n",
        "    q3 = np.percentile(array, 75)\n",
        "\n",
        "    limit = 1.5 * (q1 - q3) # iiq\n",
        "    upper_limit = q1 - limit\n",
        "    lower_limit = q3 + limit\n",
        "\n",
        "    cliped_data = np.clip(array, lower_limit, upper_limit)\n",
        "    return cliped_data"
      ],
      "execution_count": null,
      "outputs": []
    },
    {
      "cell_type": "code",
      "metadata": {
        "colab": {
          "base_uri": "https://localhost:8080/"
        },
        "id": "XCSeazk1smih",
        "outputId": "b23178cf-ac3d-412b-a859-e8e6b41d301e"
      },
      "source": [
        "df.arsenic = clip_outliers(df.arsenic)\n",
        "df.aluminium = clip_outliers(df.aluminium)\n",
        "df.nitrites = clip_outliers(df.nitrites)"
      ],
      "execution_count": null,
      "outputs": [
        {
          "output_type": "stream",
          "name": "stderr",
          "text": [
            "/usr/local/lib/python3.7/dist-packages/pandas/core/generic.py:5170: SettingWithCopyWarning: \n",
            "A value is trying to be set on a copy of a slice from a DataFrame.\n",
            "Try using .loc[row_indexer,col_indexer] = value instead\n",
            "\n",
            "See the caveats in the documentation: https://pandas.pydata.org/pandas-docs/stable/user_guide/indexing.html#returning-a-view-versus-a-copy\n",
            "  self[name] = value\n"
          ]
        }
      ]
    },
    {
      "cell_type": "markdown",
      "metadata": {
        "id": "DwDaDWw5suK1"
      },
      "source": [
        "Após a execução da função clip_outliers nas colunas com dados outliers, podemos visualizar que esses dados foram limitados aos limites superiores e inferiores do gráfico"
      ]
    },
    {
      "cell_type": "code",
      "metadata": {
        "colab": {
          "base_uri": "https://localhost:8080/",
          "height": 283
        },
        "id": "2ASrSDTvstgz",
        "outputId": "2a6f0aca-807c-436b-de91-0eac4981a4fe"
      },
      "source": [
        "df[['arsenic', 'aluminium', 'nitrites']].plot.box()"
      ],
      "execution_count": null,
      "outputs": [
        {
          "output_type": "execute_result",
          "data": {
            "text/plain": [
              "<matplotlib.axes._subplots.AxesSubplot at 0x7f6073c9d150>"
            ]
          },
          "metadata": {},
          "execution_count": 323
        },
        {
          "output_type": "display_data",
          "data": {
            "image/png": "[encoded data removed]",
            "text/plain": [
              "<Figure size 432x288 with 1 Axes>"
            ]
          },
          "metadata": {
            "needs_background": "light"
          }
        }
      ]
    },
    {
      "cell_type": "markdown",
      "metadata": {
        "id": "vwNe--OkvgM3"
      },
      "source": [
        "#__Train and Evaluation__"
      ]
    },
    {
      "cell_type": "code",
      "metadata": {
        "id": "U3O2XwUAviXF"
      },
      "source": [
        "from sklearn.tree import DecisionTreeClassifier\n",
        "from sklearn.ensemble import RandomForestClassifier\n",
        "from sklearn.model_selection import StratifiedShuffleSplit\n",
        "from sklearn.\n",
        "from sklearn.utils import resample\n",
        "from sklearn.metrics import precision_score, accuracy_score, recall_score, plot_confusion_matrix, classification_report"
      ],
      "execution_count": null,
      "outputs": []
    },
    {
      "cell_type": "code",
      "metadata": {
        "id": "Vf7QbvZ5wsvz"
      },
      "source": [
        "features = df.iloc[:, :-1].to_numpy()\n",
        "labels = df.iloc[:, -1].to_numpy()"
      ],
      "execution_count": null,
      "outputs": []
    },
    {
      "cell_type": "code",
      "metadata": {
        "id": "JCD3QuW1yNTh"
      },
      "source": [
        "stratified_shuffle_train_test_split = StratifiedShuffleSplit(n_splits=5, test_size=0.3, random_state=42)"
      ],
      "execution_count": null,
      "outputs": []
    },
    {
      "cell_type": "code",
      "metadata": {
        "id": "CgWAB-uuwLCi"
      },
      "source": [
        "def train(model, model_params):\n",
        "    for n_split, (train_idx, test_idx) in enumerate(stratified_shuffle_train_test_split.split(features, labels)):\n",
        "        classifier = model(**model_params)\n",
        "\n",
        "        # Train\n",
        "        train_data = features[train_idx]\n",
        "        train_labels = labels[train_idx]\n",
        "\n",
        "        class_0_positions = np.argwhere(train_labels == 0).flatten()\n",
        "        class_1_positions = np.argwhere(train_labels == 1).flatten()\n",
        "\n",
        "        class_0_train_data = train_data[class_0_positions]\n",
        "        class_1_train_data = train_data[class_1_positions]\n",
        "\n",
        "        '''\n",
        "        # Downsampling\n",
        "        new_class_0_train_data = resample(class_0_train_data, replace=False, n_samples=len(class_1_positions))\n",
        "        \n",
        "        new_train_data = np.vstack((new_class_0_train_data, class_1_train_data))\n",
        "        new_train_labels = np.append(np.full(len(new_class_0_train_data), 0), np.full(len(class_1_train_data), 1))\n",
        "        '''\n",
        "        \n",
        "        # Upsampling\n",
        "        new_class_1_train_data = resample(class_1_train_data, replace=True, n_samples=len(class_0_positions))\n",
        "\n",
        "        new_train_data = np.vstack((new_class_1_train_data, class_0_train_data))\n",
        "        new_train_labels = np.append(np.full(len(new_class_1_train_data), 1), np.full(len(class_0_train_data), 0))\n",
        "\n",
        "        classifier.fit(new_train_data, new_train_labels)\n",
        "        \n",
        "        # Evaluation\n",
        "        test_data = features[test_idx]\n",
        "        test_labels = labels[test_idx]\n",
        "\n",
        "        predicted_labels = classifier.predict(test_data)\n",
        "\n",
        "        print('Split:', n_split)\n",
        "        print('Precision:', precision_score(test_labels, predicted_labels))\n",
        "        print('Accuracy:', accuracy_score(test_labels, predicted_labels))\n",
        "        print('Recall:', recall_score(test_labels, predicted_labels))\n",
        "        print('-------------------------------------')\n",
        "\n",
        "    return classifier"
      ],
      "execution_count": null,
      "outputs": []
    },
    {
      "cell_type": "code",
      "metadata": {
        "colab": {
          "base_uri": "https://localhost:8080/"
        },
        "id": "V7BKAAHrwxW-",
        "outputId": "4ff404e9-4a1e-4b2b-de59-73d257054368"
      },
      "source": [
        "decision_tree_classifier = train(model=DecisionTreeClassifier, model_params={'random_state': 42})"
      ],
      "execution_count": null,
      "outputs": [
        {
          "output_type": "stream",
          "name": "stdout",
          "text": [
            "Split: 0\n",
            "Precision: 0.8185185185185185\n",
            "Accuracy: 0.9574822842851188\n",
            "Recall: 0.8065693430656934\n",
            "-------------------------------------\n",
            "Split: 1\n",
            "Precision: 0.8237547892720306\n",
            "Accuracy: 0.9562317632346811\n",
            "Recall: 0.7846715328467153\n",
            "-------------------------------------\n",
            "Split: 2\n",
            "Precision: 0.825925925925926\n",
            "Accuracy: 0.9591496456857024\n",
            "Recall: 0.8138686131386861\n",
            "-------------------------------------\n",
            "Split: 3\n",
            "Precision: 0.7992424242424242\n",
            "Accuracy: 0.9516465193830763\n",
            "Recall: 0.7700729927007299\n",
            "-------------------------------------\n",
            "Split: 4\n",
            "Precision: 0.8127208480565371\n",
            "Accuracy: 0.9595664860358483\n",
            "Recall: 0.8394160583941606\n",
            "-------------------------------------\n"
          ]
        }
      ]
    },
    {
      "cell_type": "code",
      "metadata": {
        "colab": {
          "base_uri": "https://localhost:8080/"
        },
        "id": "h4pRp4RAFBsO",
        "outputId": "45c215b7-3f64-4ce3-8c79-b52ff15b502e"
      },
      "source": [
        "random_forest_classifier = train(model=RandomForestClassifier, model_params={'random_state': 42})"
      ],
      "execution_count": null,
      "outputs": [
        {
          "output_type": "stream",
          "name": "stdout",
          "text": [
            "Split: 0\n",
            "Precision: 0.8685258964143426\n",
            "Accuracy: 0.9629012088370155\n",
            "Recall: 0.7956204379562044\n",
            "-------------------------------------\n",
            "Split: 1\n",
            "Precision: 0.8553719008264463\n",
            "Accuracy: 0.9574822842851188\n",
            "Recall: 0.7554744525547445\n",
            "-------------------------------------\n",
            "Split: 2\n",
            "Precision: 0.857707509881423\n",
            "Accuracy: 0.9612338474364318\n",
            "Recall: 0.791970802919708\n",
            "-------------------------------------\n",
            "Split: 3\n",
            "Precision: 0.8291666666666667\n",
            "Accuracy: 0.9516465193830763\n",
            "Recall: 0.7262773722627737\n",
            "-------------------------------------\n",
            "Split: 4\n",
            "Precision: 0.8785425101214575\n",
            "Accuracy: 0.9637348895373072\n",
            "Recall: 0.791970802919708\n",
            "-------------------------------------\n"
          ]
        }
      ]
    },
    {
      "cell_type": "code",
      "metadata": {
        "id": "yRi2PEYCUPf9"
      },
      "source": [
        "import graphviz"
      ],
      "execution_count": null,
      "outputs": []
    },
    {
      "cell_type": "code",
      "metadata": {
        "colab": {
          "base_uri": "https://localhost:8080/",
          "height": 240
        },
        "id": "vwFXCd7HUjVs",
        "outputId": "cb2238ab-4d55-4f68-8ed2-42802e7033ae"
      },
      "source": [
        "dot_data = tree.export_graphviz(dt, \n",
        "                  feature_names=x,  \n",
        "                  class_names=['0', '1'],  \n",
        "                  filled=True, rounded=True,  \n",
        "                  special_characters=True,\n",
        "                   out_file=None,\n",
        "                           )\n",
        "graph = graphviz.Source(dot_data)\n",
        "grap"
      ],
      "execution_count": null,
      "outputs": [
        {
          "output_type": "error",
          "ename": "NameError",
          "evalue": "ignored",
          "traceback": [
            "\u001b[0;31m---------------------------------------------------------------------------\u001b[0m",
            "\u001b[0;31mNameError\u001b[0m                                 Traceback (most recent call last)",
            "\u001b[0;32m<ipython-input-422-4e299403e449>\u001b[0m in \u001b[0;36m<module>\u001b[0;34m()\u001b[0m\n\u001b[0;32m----> 1\u001b[0;31m dot_data = tree.export_graphviz(dt, \n\u001b[0m\u001b[1;32m      2\u001b[0m                   \u001b[0mfeature_names\u001b[0m\u001b[0;34m=\u001b[0m\u001b[0mx\u001b[0m\u001b[0;34m,\u001b[0m\u001b[0;34m\u001b[0m\u001b[0;34m\u001b[0m\u001b[0m\n\u001b[1;32m      3\u001b[0m                   \u001b[0mclass_names\u001b[0m\u001b[0;34m=\u001b[0m\u001b[0;34m[\u001b[0m\u001b[0;34m'0'\u001b[0m\u001b[0;34m,\u001b[0m \u001b[0;34m'1'\u001b[0m\u001b[0;34m]\u001b[0m\u001b[0;34m,\u001b[0m\u001b[0;34m\u001b[0m\u001b[0;34m\u001b[0m\u001b[0m\n\u001b[1;32m      4\u001b[0m                   \u001b[0mfilled\u001b[0m\u001b[0;34m=\u001b[0m\u001b[0;32mTrue\u001b[0m\u001b[0;34m,\u001b[0m \u001b[0mrounded\u001b[0m\u001b[0;34m=\u001b[0m\u001b[0;32mTrue\u001b[0m\u001b[0;34m,\u001b[0m\u001b[0;34m\u001b[0m\u001b[0;34m\u001b[0m\u001b[0m\n\u001b[1;32m      5\u001b[0m                   \u001b[0mspecial_characters\u001b[0m\u001b[0;34m=\u001b[0m\u001b[0;32mTrue\u001b[0m\u001b[0;34m,\u001b[0m\u001b[0;34m\u001b[0m\u001b[0;34m\u001b[0m\u001b[0m\n",
            "\u001b[0;31mNameError\u001b[0m: name 'tree' is not defined"
          ]
        }
      ]
    },
    {
      "cell_type": "code",
      "metadata": {
        "id": "w8KiIHXwUlcJ"
      },
      "source": [
        ""
      ],
      "execution_count": null,
      "outputs": []
    }
  ]
}